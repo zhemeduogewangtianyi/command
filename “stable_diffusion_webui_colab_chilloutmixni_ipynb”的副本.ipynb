{
  "nbformat": 4,
  "nbformat_minor": 0,
  "metadata": {
    "colab": {
      "provenance": [],
      "include_colab_link": true
    },
    "kernelspec": {
      "name": "python3",
      "display_name": "Python 3"
    },
    "language_info": {
      "name": "python"
    },
    "accelerator": "GPU",
    "gpuClass": "standard"
  },
  "cells": [
    {
      "cell_type": "markdown",
      "metadata": {
        "id": "view-in-github",
        "colab_type": "text"
      },
      "source": [
        "<a href=\"https://colab.research.google.com/github/zhemeduogewangtianyi/246859.github.io/blob/main/%E2%80%9Cstable_diffusion_webui_colab_chilloutmixni_ipynb%E2%80%9D%E7%9A%84%E5%89%AF%E6%9C%AC.ipynb\" target=\"_parent\"><img src=\"https://colab.research.google.com/assets/colab-badge.svg\" alt=\"Open In Colab\"/></a>"
      ]
    },
    {
      "cell_type": "markdown",
      "source": [
        "遇到问题可以在 [GitHub Repo](https://github.com/KKGo1999/Stable-diffusion-person)中留下issue。或通过 www.kkgo1999.top +WX问答"
      ],
      "metadata": {
        "id": "gcSSA1_KKVLx"
      }
    },
    {
      "cell_type": "markdown",
      "source": [
        "# 1. Setup the Stable Diffusion Web UI with chilloutmixni model"
      ],
      "metadata": {
        "id": "VVIVdv8TLYMV"
      }
    },
    {
      "cell_type": "code",
      "execution_count": null,
      "metadata": {
        "id": "b7_IKrE4ImTZ",
        "colab": {
          "base_uri": "https://localhost:8080/"
        },
        "outputId": "502f0efe-fd9b-49df-f3c3-46e8be8edab0"
      },
      "outputs": [
        {
          "output_type": "stream",
          "name": "stdout",
          "text": [
            "Looking in indexes: https://pypi.org/simple, https://us-python.pkg.dev/colab-wheels/public/simple/\n",
            "Collecting fastapi==0.90.1\n",
            "  Downloading fastapi-0.90.1-py3-none-any.whl (56 kB)\n",
            "\u001b[2K     \u001b[90m━━━━━━━━━━━━━━━━━━━━━━━━━━━━━━━━━━━━━━━━\u001b[0m \u001b[32m56.2/56.2 KB\u001b[0m \u001b[31m2.5 MB/s\u001b[0m eta \u001b[36m0:00:00\u001b[0m\n",
            "\u001b[?25hRequirement already satisfied: pydantic!=1.7,!=1.7.1,!=1.7.2,!=1.7.3,!=1.8,!=1.8.1,<2.0.0,>=1.6.2 in /usr/local/lib/python3.8/dist-packages (from fastapi==0.90.1) (1.10.5)\n",
            "Collecting starlette<0.24.0,>=0.22.0\n",
            "  Downloading starlette-0.23.1-py3-none-any.whl (64 kB)\n",
            "\u001b[2K     \u001b[90m━━━━━━━━━━━━━━━━━━━━━━━━━━━━━━━━━━━━━━━━\u001b[0m \u001b[32m64.5/64.5 KB\u001b[0m \u001b[31m1.3 MB/s\u001b[0m eta \u001b[36m0:00:00\u001b[0m\n",
            "\u001b[?25hRequirement already satisfied: typing-extensions>=4.2.0 in /usr/local/lib/python3.8/dist-packages (from pydantic!=1.7,!=1.7.1,!=1.7.2,!=1.7.3,!=1.8,!=1.8.1,<2.0.0,>=1.6.2->fastapi==0.90.1) (4.5.0)\n",
            "Collecting anyio<5,>=3.4.0\n",
            "  Downloading anyio-3.6.2-py3-none-any.whl (80 kB)\n",
            "\u001b[2K     \u001b[90m━━━━━━━━━━━━━━━━━━━━━━━━━━━━━━━━━━━━━━━━\u001b[0m \u001b[32m80.6/80.6 KB\u001b[0m \u001b[31m5.8 MB/s\u001b[0m eta \u001b[36m0:00:00\u001b[0m\n",
            "\u001b[?25hRequirement already satisfied: idna>=2.8 in /usr/local/lib/python3.8/dist-packages (from anyio<5,>=3.4.0->starlette<0.24.0,>=0.22.0->fastapi==0.90.1) (2.10)\n",
            "Collecting sniffio>=1.1\n",
            "  Downloading sniffio-1.3.0-py3-none-any.whl (10 kB)\n",
            "Installing collected packages: sniffio, anyio, starlette, fastapi\n",
            "Successfully installed anyio-3.6.2 fastapi-0.90.1 sniffio-1.3.0 starlette-0.23.1\n",
            "Cloning into 'stable-diffusion-webui'...\n",
            "remote: Enumerating objects: 16434, done.\u001b[K\n",
            "remote: Total 16434 (delta 0), reused 0 (delta 0), pack-reused 16434\u001b[K\n",
            "Receiving objects: 100% (16434/16434), 27.51 MiB | 31.34 MiB/s, done.\n",
            "Resolving deltas: 100% (11493/11493), done.\n",
            "Cloning into '/content/stable-diffusion-webui/extensions/stable-diffusion-webui-images-browser'...\n",
            "remote: Enumerating objects: 143, done.\u001b[K\n",
            "remote: Counting objects: 100% (34/34), done.\u001b[K\n",
            "remote: Compressing objects: 100% (12/12), done.\u001b[K\n",
            "remote: Total 143 (delta 25), reused 22 (delta 22), pack-reused 109\u001b[K\n",
            "Receiving objects: 100% (143/143), 37.96 KiB | 9.49 MiB/s, done.\n",
            "Resolving deltas: 100% (51/51), done.\n",
            "  % Total    % Received % Xferd  Average Speed   Time    Time     Time  Current\n",
            "                                 Dload  Upload   Total   Spent    Left  Speed\n",
            "100  1127  100  1127    0     0  36354      0 --:--:-- --:--:-- --:--:-- 36354\n",
            "100 7346M  100 7346M    0     0   239M      0  0:00:30  0:00:30 --:--:--  239M\n",
            "  % Total    % Received % Xferd  Average Speed   Time    Time     Time  Current\n",
            "                                 Dload  Upload   Total   Spent    Left  Speed\n",
            "100  1123  100  1123    0     0  23893      0 --:--:-- --:--:-- --:--:-- 23893\n",
            "100 10155  100 10155    0     0   112k      0 --:--:-- --:--:-- --:--:--  112k\n",
            "/content/stable-diffusion-webui\n",
            "Python 3.8.10 (default, Nov 14 2022, 12:59:47) \n",
            "[GCC 9.4.0]\n",
            "Commit hash: 0cc0ee1bcb4c24a8c9715f66cede06601bfc00c8\n",
            "Installing gfpgan\n",
            "Installing clip\n",
            "Installing open_clip\n",
            "Installing xformers\n",
            "Cloning Stable Diffusion into repositories/stable-diffusion-stability-ai...\n",
            "Cloning Taming Transformers into repositories/taming-transformers...\n",
            "Cloning K-diffusion into repositories/k-diffusion...\n",
            "Cloning CodeFormer into repositories/CodeFormer...\n",
            "Cloning BLIP into repositories/BLIP...\n",
            "Installing requirements for CodeFormer\n",
            "Installing requirements for Web UI\n",
            "Launching Web UI with arguments: --share --disable-safe-unpickle --no-half-vae --xformers --enable-insecure-extension-access\n",
            "2023-02-28 13:34:45.709327: I tensorflow/core/platform/cpu_feature_guard.cc:193] This TensorFlow binary is optimized with oneAPI Deep Neural Network Library (oneDNN) to use the following CPU instructions in performance-critical operations:  AVX2 FMA\n",
            "To enable them in other operations, rebuild TensorFlow with the appropriate compiler flags.\n",
            "2023-02-28 13:34:48.714531: W tensorflow/compiler/xla/stream_executor/platform/default/dso_loader.cc:64] Could not load dynamic library 'libnvinfer.so.7'; dlerror: libnvinfer.so.7: cannot open shared object file: No such file or directory; LD_LIBRARY_PATH: /usr/local/lib/python3.8/dist-packages/cv2/../../lib64:/usr/lib64-nvidia\n",
            "2023-02-28 13:34:48.714924: W tensorflow/compiler/xla/stream_executor/platform/default/dso_loader.cc:64] Could not load dynamic library 'libnvinfer_plugin.so.7'; dlerror: libnvinfer_plugin.so.7: cannot open shared object file: No such file or directory; LD_LIBRARY_PATH: /usr/local/lib/python3.8/dist-packages/cv2/../../lib64:/usr/lib64-nvidia\n",
            "2023-02-28 13:34:48.714952: W tensorflow/compiler/tf2tensorrt/utils/py_utils.cc:38] TF-TRT Warning: Cannot dlopen some TensorRT libraries. If you would like to use Nvidia GPU with TensorRT, please make sure the missing libraries mentioned above are installed properly.\n",
            "Calculating sha256 for /content/stable-diffusion-webui/models/Stable-diffusion/chilloutmixni.safetensors: 7234b76e423f010b409268386062a4111c0da6adebdf3a9b1a825937bdf17683\n",
            "Loading weights [7234b76e42] from /content/stable-diffusion-webui/models/Stable-diffusion/chilloutmixni.safetensors\n",
            "Creating model from config: /content/stable-diffusion-webui/configs/v1-inference.yaml\n",
            "LatentDiffusion: Running in eps-prediction mode\n",
            "DiffusionWrapper has 859.52 M params.\n",
            "Downloading (…)olve/main/vocab.json: 100% 961k/961k [00:00<00:00, 57.1MB/s]\n",
            "Downloading (…)olve/main/merges.txt: 100% 525k/525k [00:00<00:00, 35.6MB/s]\n",
            "Downloading (…)cial_tokens_map.json: 100% 389/389 [00:00<00:00, 195kB/s]\n",
            "Downloading (…)okenizer_config.json: 100% 905/905 [00:00<00:00, 448kB/s]\n",
            "Downloading (…)lve/main/config.json: 100% 4.52k/4.52k [00:00<00:00, 648kB/s]\n",
            "Applying xformers cross attention optimization.\n",
            "Textual inversion embeddings loaded(1): ulzzang-6500\n",
            "Model loaded in 76.9s (calculate hash: 45.9s, load weights from disk: 1.0s, create model: 1.6s, apply weights to model: 19.3s, apply half(): 1.3s, load VAE: 7.2s, move model to device: 0.6s).\n",
            "Running on local URL:  http://127.0.0.1:7860\n",
            "Running on public URL: https://4ae7171e-5a3f-47b8.gradio.live\n",
            "\n",
            "This share link expires in 72 hours. For free permanent hosting and GPU upgrades (NEW!), check out Spaces: https://huggingface.co/spaces\n",
            "  0% 0/24 [00:00<?, ?it/s]\n",
            "  4% 1/24 [00:08<03:07,  8.14s/it]\n",
            "  8% 2/24 [00:08<01:20,  3.65s/it]\n",
            " 12% 3/24 [00:09<00:46,  2.22s/it]\n",
            " 17% 4/24 [00:09<00:30,  1.55s/it]\n",
            " 21% 5/24 [00:10<00:22,  1.17s/it]\n",
            " 25% 6/24 [00:10<00:17,  1.05it/s]\n",
            " 29% 7/24 [00:11<00:13,  1.24it/s]\n",
            " 33% 8/24 [00:11<00:11,  1.39it/s]\n",
            " 38% 9/24 [00:12<00:09,  1.52it/s]\n",
            " 42% 10/24 [00:12<00:08,  1.63it/s]\n",
            " 46% 11/24 [00:13<00:07,  1.71it/s]\n",
            " 50% 12/24 [00:13<00:06,  1.73it/s]\n",
            " 54% 13/24 [00:14<00:06,  1.69it/s]\n",
            " 58% 14/24 [00:15<00:05,  1.75it/s]\n",
            " 62% 15/24 [00:15<00:04,  1.80it/s]\n",
            " 67% 16/24 [00:16<00:04,  1.82it/s]\n",
            " 71% 17/24 [00:16<00:03,  1.85it/s]\n",
            " 75% 18/24 [00:17<00:03,  1.86it/s]\n",
            " 79% 19/24 [00:17<00:02,  1.87it/s]\n",
            " 83% 20/24 [00:18<00:02,  1.88it/s]\n",
            " 88% 21/24 [00:18<00:01,  1.89it/s]\n",
            " 92% 22/24 [00:19<00:01,  1.89it/s]\n",
            " 96% 23/24 [00:19<00:00,  1.90it/s]\n",
            "100% 24/24 [00:20<00:00,  1.20it/s]\n",
            "Total progress: 100% 24/24 [00:18<00:00,  1.31it/s]\n",
            "\n",
            "  0% 0/24 [00:00<?, ?it/s]\n",
            "  4% 1/24 [00:00<00:13,  1.66it/s]\n",
            "  8% 2/24 [00:01<00:12,  1.80it/s]\n",
            " 12% 3/24 [00:01<00:11,  1.85it/s]\n",
            " 17% 4/24 [00:02<00:10,  1.87it/s]\n",
            " 21% 5/24 [00:02<00:10,  1.88it/s]\n",
            " 25% 6/24 [00:03<00:09,  1.88it/s]\n",
            " 29% 7/24 [00:03<00:08,  1.89it/s]\n",
            " 33% 8/24 [00:04<00:08,  1.89it/s]\n",
            " 38% 9/24 [00:04<00:07,  1.90it/s]\n",
            " 42% 10/24 [00:05<00:07,  1.90it/s]\n",
            " 46% 11/24 [00:05<00:06,  1.90it/s]\n",
            " 50% 12/24 [00:06<00:06,  1.90it/s]\n",
            " 54% 13/24 [00:06<00:05,  1.90it/s]\n",
            " 58% 14/24 [00:07<00:05,  1.89it/s]\n",
            " 62% 15/24 [00:07<00:04,  1.90it/s]\n",
            " 67% 16/24 [00:08<00:04,  1.90it/s]\n",
            " 71% 17/24 [00:09<00:03,  1.91it/s]\n",
            " 75% 18/24 [00:09<00:03,  1.91it/s]\n",
            " 79% 19/24 [00:10<00:02,  1.92it/s]\n",
            " 83% 20/24 [00:10<00:02,  1.91it/s]\n",
            " 88% 21/24 [00:11<00:01,  1.91it/s]\n",
            " 92% 22/24 [00:11<00:01,  1.90it/s]\n",
            " 96% 23/24 [00:12<00:00,  1.91it/s]\n",
            "100% 24/24 [00:12<00:00,  1.93it/s]\n",
            "  0% 0/20 [00:00<?, ?it/s]\n",
            "  5% 1/20 [00:11<03:40, 11.62s/it]\n",
            " 10% 2/20 [00:14<01:54,  6.37s/it]\n",
            " 15% 3/20 [00:16<01:19,  4.69s/it]\n",
            " 20% 4/20 [00:19<01:02,  3.90s/it]\n",
            " 25% 5/20 [00:22<00:51,  3.45s/it]\n",
            " 30% 6/20 [00:24<00:44,  3.17s/it]\n",
            " 35% 7/20 [00:27<00:38,  2.99s/it]\n",
            " 40% 8/20 [00:30<00:34,  2.87s/it]\n",
            " 45% 9/20 [00:32<00:30,  2.78s/it]\n",
            " 50% 10/20 [00:35<00:27,  2.73s/it]\n",
            " 55% 11/20 [00:37<00:24,  2.69s/it]\n",
            " 60% 12/20 [00:40<00:21,  2.67s/it]\n",
            " 65% 13/20 [00:43<00:18,  2.66s/it]\n",
            " 70% 14/20 [00:45<00:15,  2.64s/it]\n",
            " 75% 15/20 [00:48<00:13,  2.62s/it]\n",
            " 80% 16/20 [00:50<00:10,  2.60s/it]\n",
            " 85% 17/20 [00:53<00:07,  2.59s/it]\n",
            " 90% 18/20 [00:56<00:05,  2.58s/it]\n",
            " 95% 19/20 [00:58<00:02,  2.57s/it]\n",
            "100% 20/20 [00:59<00:00,  3.00s/it]\n",
            "Downloading: \"https://github.com/sczhou/CodeFormer/releases/download/v0.1.0/codeformer.pth\" to /content/stable-diffusion-webui/models/Codeformer/codeformer-v0.1.0.pth\n",
            "\n",
            "100% 359M/359M [00:01<00:00, 253MB/s]\n",
            "Downloading: \"https://github.com/xinntao/facexlib/releases/download/v0.1.0/detection_Resnet50_Final.pth\" to /content/stable-diffusion-webui/repositories/CodeFormer/weights/facelib/detection_Resnet50_Final.pth\n",
            "\n",
            "100% 104M/104M [00:00<00:00, 311MB/s] \n",
            "Downloading: \"https://github.com/sczhou/CodeFormer/releases/download/v0.1.0/parsing_parsenet.pth\" to /content/stable-diffusion-webui/repositories/CodeFormer/weights/facelib/parsing_parsenet.pth\n",
            "\n",
            "100% 81.4M/81.4M [00:00<00:00, 283MB/s]\n",
            "Total progress: 100% 44/44 [02:02<00:00,  2.78s/it]\n",
            "  0% 0/20 [00:00<?, ?it/s]\n",
            "  5% 1/20 [00:03<01:06,  3.52s/it]\n",
            " 15% 3/20 [00:03<00:15,  1.09it/s]\n",
            " 20% 4/20 [00:04<00:09,  1.62it/s]\n",
            " 25% 5/20 [00:04<00:06,  2.22it/s]\n",
            " 30% 6/20 [00:04<00:04,  2.81it/s]\n",
            " 35% 7/20 [00:04<00:03,  3.43it/s]\n",
            " 40% 8/20 [00:04<00:02,  4.00it/s]\n",
            " 45% 9/20 [00:04<00:02,  4.51it/s]\n",
            " 50% 10/20 [00:04<00:02,  4.92it/s]\n",
            " 55% 11/20 [00:05<00:01,  5.26it/s]\n",
            " 60% 12/20 [00:05<00:01,  5.50it/s]\n",
            " 65% 13/20 [00:05<00:01,  5.69it/s]\n",
            " 70% 14/20 [00:05<00:01,  5.72it/s]\n",
            " 75% 15/20 [00:05<00:00,  5.53it/s]\n",
            " 80% 16/20 [00:06<00:00,  5.43it/s]\n",
            " 85% 17/20 [00:06<00:00,  5.49it/s]\n",
            " 90% 18/20 [00:06<00:00,  5.58it/s]\n",
            " 95% 19/20 [00:06<00:00,  5.74it/s]\n",
            "100% 20/20 [00:06<00:00,  2.99it/s]\n",
            "Total progress: 100% 20/20 [00:07<00:00,  2.74it/s]\n",
            "Exception in thread Thread-6:\n",
            "Traceback (most recent call last):\n",
            "  File \"/usr/local/lib/python3.8/dist-packages/git/cmd.py\", line 134, in pump_stream\n",
            "    for line in stream:\n",
            "  File \"/usr/lib/python3.8/encodings/ascii.py\", line 26, in decode\n",
            "    return codecs.ascii_decode(input, self.errors)[0]\n",
            "UnicodeDecodeError: 'ascii' codec can't decode byte 0xe5 in position 73: ordinal not in range(128)\n",
            "\n",
            "The above exception was the direct cause of the following exception:\n",
            "\n",
            "Traceback (most recent call last):\n",
            "  File \"/usr/lib/python3.8/threading.py\", line 932, in _bootstrap_inner\n",
            "    self.run()\n",
            "  File \"/usr/lib/python3.8/threading.py\", line 870, in run\n",
            "    self._target(*self._args, **self._kwargs)\n",
            "  File \"/usr/local/lib/python3.8/dist-packages/git/cmd.py\", line 147, in pump_stream\n",
            "    raise CommandError([f\"<{name}-pump>\"] + remove_password_if_present(cmdline), ex) from ex\n",
            "git.exc.CommandError: Cmd('<stderr-pump>') failed due to: UnicodeDecodeError(''ascii' codec can't decode byte 0xe5 in position 73: ordinal not in range(128)')\n",
            "  cmdline: <stderr-pump> git fetch -v -- origin\n"
          ]
        }
      ],
      "source": [
        "!pip install --upgrade fastapi==0.90.1\n",
        "\n",
        "!git clone https://github.com/AUTOMATIC1111/stable-diffusion-webui\n",
        "!git clone https://github.com/yfszzx/stable-diffusion-webui-images-browser /content/stable-diffusion-webui/extensions/stable-diffusion-webui-images-browser\n",
        "\n",
        "!curl -Lo chilloutmixni.safetensors https://huggingface.co/nolanaatama/chomni/resolve/main/chomni.safetensors\n",
        "!curl -Lo ulzzang-6500.pt https://huggingface.co/nolanaatama/chomni/resolve/main/ulzzang-6500.pt\n",
        "!mv \"/content/chilloutmixni.safetensors\" \"/content/stable-diffusion-webui/models/Stable-diffusion\"\n",
        "!mv \"/content/ulzzang-6500.pt\" \"/content/stable-diffusion-webui/embeddings\"\n",
        "\n",
        "%cd /content/stable-diffusion-webui\n",
        "!COMMANDLINE_ARGS=\"--share --disable-safe-unpickle --no-half-vae --xformers --reinstall-xformers --enable-insecure-extension-access\" REQS_FILE=\"requirements.txt\" python launch.py"
      ]
    },
    {
      "cell_type": "markdown",
      "source": [
        "# 2. Wait for the Gradio link and open. 等待上步执行完毕（Gradio 链接出现 后点击即可）\n"
      ],
      "metadata": {
        "id": "9bWBlqgzLqfn"
      }
    },
    {
      "cell_type": "markdown",
      "source": [
        "# Check and Download all generated images 下载所有生成的图像"
      ],
      "metadata": {
        "id": "v3ip5Y0lKZq4"
      }
    },
    {
      "cell_type": "code",
      "source": [
        "!du -sh /content/stable-diffusion-webui/outputs/txt2img-images/"
      ],
      "metadata": {
        "id": "YjfPtIFFIqY0"
      },
      "execution_count": null,
      "outputs": []
    },
    {
      "cell_type": "code",
      "source": [
        "# you can download your generated images in /content/generated.zip\n",
        "\n",
        "!zip -r /content/generated.zip /content/stable-diffusion-webui/outputs/txt2img-images/"
      ],
      "metadata": {
        "id": "QOd_e25YIr4J"
      },
      "execution_count": null,
      "outputs": []
    }
  ]
}